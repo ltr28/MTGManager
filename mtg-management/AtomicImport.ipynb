{
 "cells": [
  {
   "cell_type": "code",
   "execution_count": 2,
   "metadata": {},
   "outputs": [],
   "source": [
    "import json\n",
    "import os\n",
    "import pandas as pd\n",
    "import unidecode as ud\n",
    "import copy\n",
    "\n",
    "import requests\n",
    "from PIL import Image\n",
    "from pathlib import Path\n",
    "from shutil import copyfile\n",
    "import plotly.graph_objects as go\n",
    "#online_link = \"https://mtgjson.com/api/v5/AllPrintings.json\""
   ]
  },
  {
   "cell_type": "markdown",
   "metadata": {},
   "source": [
    "# Import all Creatures, creating a list of cards in MomirVig"
   ]
  },
  {
   "cell_type": "code",
   "execution_count": 3,
   "metadata": {},
   "outputs": [],
   "source": [
    "STORE_COLLECTED = False\n",
    "\n",
    "with open('downloads/VintageAtomic.json', 'r', encoding='utf8') as read_file:\n",
    "    VintageAtomic = json.load(read_file)\n",
    "AllCards = VintageAtomic['data']\n",
    "MomirCardNames = list(pd.read_csv(\"MomirVig\\\\cards.csv\").Name)\n",
    "\n",
    "MissingCreatures = {}\n",
    "CollectedCreatures = {}\n",
    "\n",
    "for card in AllCards:\n",
    "    if \"Creature\" in AllCards[card][0]['types']:\n",
    "        if AllCards[card][0]['name'] not in MomirCardNames:            \n",
    "            MissingCreatures[card] = AllCards[card][0]\n",
    "        elif STORE_COLLECTED:\n",
    "            CollectedCreatures[card] = AllCards[card][0]\n",
    "\n",
    "with open('data/Missing.json', 'w') as write_file:\n",
    "    json.dump(MissingCreatures, write_file, indent=4, sort_keys=True)\n",
    "if STORE_COLLECTED:\n",
    "    with open('data/Collected.json', 'w') as write_file:\n",
    "        json.dump(CollectedCreatures, write_file, indent=4, sort_keys=True)"
   ]
  },
  {
   "cell_type": "code",
   "execution_count": 17,
   "metadata": {},
   "outputs": [
    {
     "data": {
      "text/plain": [
       "'https://mtgjson.com/links/58b043b19d6eba87'"
      ]
     },
     "execution_count": 17,
     "metadata": {},
     "output_type": "execute_result"
    }
   ],
   "source": [
    "AllCards['Tarmogoyf'][0]['purchaseUrls']['cardKingdom']"
   ]
  },
  {
   "cell_type": "markdown",
   "metadata": {},
   "source": [
    "# In Progress: Pricing Data"
   ]
  },
  {
   "cell_type": "code",
   "execution_count": 6,
   "metadata": {},
   "outputs": [],
   "source": [
    "with open(\"downloads/AllPrices.json\", \"r\") as price_file:\n",
    "    Prices = json.load(price_file)['data']"
   ]
  },
  {
   "cell_type": "code",
   "execution_count": 5,
   "metadata": {},
   "outputs": [
    {
     "ename": "KeyError",
     "evalue": "'id'",
     "output_type": "error",
     "traceback": [
      "\u001b[1;31m---------------------------------------------------------------------------\u001b[0m",
      "\u001b[1;31mKeyError\u001b[0m                                  Traceback (most recent call last)",
      "\u001b[1;32m~\\AppData\\Local\\Temp/ipykernel_9128/1795309113.py\u001b[0m in \u001b[0;36m<module>\u001b[1;34m\u001b[0m\n\u001b[0;32m      4\u001b[0m \u001b[1;32mfor\u001b[0m \u001b[0mcard\u001b[0m \u001b[1;32min\u001b[0m \u001b[0mMissingCreatures\u001b[0m\u001b[1;33m:\u001b[0m\u001b[1;33m\u001b[0m\u001b[1;33m\u001b[0m\u001b[0m\n\u001b[0;32m      5\u001b[0m     \u001b[0mMissingCreatures\u001b[0m\u001b[1;33m[\u001b[0m\u001b[0mcard\u001b[0m\u001b[1;33m]\u001b[0m\u001b[1;33m[\u001b[0m\u001b[1;34m'prices'\u001b[0m\u001b[1;33m]\u001b[0m \u001b[1;33m=\u001b[0m \u001b[1;33m{\u001b[0m\u001b[1;33m}\u001b[0m\u001b[1;33m\u001b[0m\u001b[1;33m\u001b[0m\u001b[0m\n\u001b[1;32m----> 6\u001b[1;33m     \u001b[1;32mfor\u001b[0m \u001b[0mmissing_set\u001b[0m\u001b[1;33m,\u001b[0m \u001b[0mmissing_id\u001b[0m\u001b[1;33m,\u001b[0m \u001b[0mframe\u001b[0m \u001b[1;32min\u001b[0m \u001b[0mMissingCreatures\u001b[0m\u001b[1;33m[\u001b[0m\u001b[0mcard\u001b[0m\u001b[1;33m]\u001b[0m\u001b[1;33m[\u001b[0m\u001b[1;34m'id'\u001b[0m\u001b[1;33m]\u001b[0m\u001b[1;33m:\u001b[0m\u001b[1;33m\u001b[0m\u001b[1;33m\u001b[0m\u001b[0m\n\u001b[0m\u001b[0;32m      7\u001b[0m         \u001b[0mMissingCreatures\u001b[0m\u001b[1;33m[\u001b[0m\u001b[0mcard\u001b[0m\u001b[1;33m]\u001b[0m\u001b[1;33m[\u001b[0m\u001b[1;34m'prices'\u001b[0m\u001b[1;33m]\u001b[0m\u001b[1;33m[\u001b[0m\u001b[0mmissing_set\u001b[0m\u001b[1;33m]\u001b[0m \u001b[1;33m=\u001b[0m \u001b[1;33m[\u001b[0m\u001b[1;33m]\u001b[0m\u001b[1;33m\u001b[0m\u001b[1;33m\u001b[0m\u001b[0m\n\u001b[0;32m      8\u001b[0m         \u001b[1;32mif\u001b[0m \u001b[0mmissing_id\u001b[0m \u001b[1;32min\u001b[0m \u001b[0mPrices\u001b[0m\u001b[1;33m:\u001b[0m\u001b[1;33m\u001b[0m\u001b[1;33m\u001b[0m\u001b[0m\n",
      "\u001b[1;31mKeyError\u001b[0m: 'id'"
     ]
    }
   ],
   "source": [
    "\n",
    "for card in MissingCreatures:\n",
    "    MissingCreatures[card]['prices'] = {}\n",
    "    for missing_set in MissingCreatures[card]['printings']:\n",
    "        MissingCreatures[card]['prices'][missing_set] = []\n",
    "        if missing_id in Prices:\n",
    "            try:\n",
    "                if 'paper' in Prices[missing_id]:\n",
    "                    for store in ['cardkingdom', 'tcgplayer', 'cardmarket']:\n",
    "                        if store in Prices[missing_id]['paper']:\n",
    "                            break\n",
    "                    for price_list in ['retail', 'buylist']:\n",
    "                        if price_list in Prices[missing_id]['paper'][store]:\n",
    "                            break\n",
    "                    for foiling in ['normal', 'foil']:\n",
    "                        if foiling in Prices[missing_id]['paper'][store][price_list]:\n",
    "                            break\n",
    "                    \n",
    "                \n",
    "                    date = max(Prices[missing_id]['paper'][store][price_list][foiling].keys())\n",
    "                    price = Prices[missing_id]['paper'][store][price_list][foiling][date], frame\n",
    "                    MissingCreatures[card]['prices'][missing_set].append(price)\n",
    "            except:\n",
    "                print(card)\n",
    "                raise Exception(\"Card Error\")\n",
    "            \n",
    "            \n",
    "        else:\n",
    "            problem_sets = problem_sets.union(find_problem_set(card, MissingCreatures[card]['set'], missing_id))\n",
    "            print(MissingCreatures[card])\n",
    "            raise Exception(\"NOT ALL TERRIBLE SETS ACCOUNTED FOR\")\n"
   ]
  },
  {
   "cell_type": "code",
   "execution_count": null,
   "metadata": {},
   "outputs": [],
   "source": [
    "WouldPurchase = copy.deepcopy(MissingCreatures)\n",
    "\n",
    "for card in WouldPurchase:\n",
    "    try:\n",
    "        WouldPurchase[card]['min_price'] = min([WouldPurchase[card]['prices'][y][0][0] for y in WouldPurchase[card]['prices']])\n",
    "        new_prices = {}\n",
    "        new_sets = []\n",
    "        for y in WouldPurchase[card]['prices']:\n",
    "            if WouldPurchase[card]['prices'][y][0][0] < 1.5 * WouldPurchase[card]['min_price'] or WouldPurchase[card]['prices'][y][0][0] < 2:\n",
    "                for mtgset in WouldPurchase[card]['prices']:\n",
    "                    set_price = WouldPurchase[card]['prices'][mtgset][0][0]\n",
    "                    set_prices = []\n",
    "                    # for set_version in WouldPurchase[card]['prices'][mtgset]:\n",
    "                    #     version_price = \n",
    "\n",
    "                    if set_price < 1.5 * WouldPurchase[card]['min_price'] or set_price < 2:\n",
    "                        new_prices[mtgset] = WouldPurchase[card]['prices'][mtgset]\n",
    "                        if mtgset not in new_sets:\n",
    "                            new_sets.append(mtgset)\n",
    "        WouldPurchase[card]['prices'] = new_prices\n",
    "        WouldPurchase[card]['set'] = new_sets\n",
    "    except:\n",
    "        print(card)\n",
    "        raise Exception(\"Bad Card\")\n",
    "\n",
    "with open(\"data/PurchaseThese.json\", \"w\") as write_file:\n",
    "    json.dump(WouldPurchase, write_file, indent=4, sort_keys=True)\n",
    "        "
   ]
  },
  {
   "cell_type": "code",
   "execution_count": null,
   "metadata": {},
   "outputs": [
    {
     "name": "stdout",
     "output_type": "stream",
     "text": [
      "{'name': 'Illuna, Apex of Wishes', 'set': ['IKO'], 'MV': 5, 'rarity': 'mythic', 'id': [['IKO', 'f3f01bdc-5679-5f7d-94cc-caa5c889f620', ['legendary']], ['IKO', '0898a67d-e593-5028-b0e2-66f9fe5c11b4', ['showcase', 'legendary']], ['IKO', '824d322b-6117-5f32-a56a-5c67cb6a6baf', ['legendary']]], 'color': ['G', 'R', 'U'], 'prices': {'IKO': [(47.99, ['legendary'])]}, 'min_price': 47.99}\n"
     ]
    }
   ],
   "source": [
    "print(WouldPurchase['Illuna, Apex of Wishes'])"
   ]
  },
  {
   "cell_type": "code",
   "execution_count": null,
   "metadata": {},
   "outputs": [
    {
     "data": {
      "text/plain": [
       "{'2021-06-28': 2.79,\n",
       " '2021-06-29': 2.79,\n",
       " '2021-06-30': 2.79,\n",
       " '2021-07-01': 2.79,\n",
       " '2021-07-02': 2.49,\n",
       " '2021-07-03': 2.49,\n",
       " '2021-07-04': 2.49,\n",
       " '2021-07-05': 2.29,\n",
       " '2021-07-06': 2.29,\n",
       " '2021-07-07': 2.29,\n",
       " '2021-07-08': 2.29,\n",
       " '2021-07-09': 2.29,\n",
       " '2021-07-11': 1.99,\n",
       " '2021-07-12': 1.99,\n",
       " '2021-07-13': 1.99,\n",
       " '2021-07-14': 1.79,\n",
       " '2021-07-16': 1.79,\n",
       " '2021-07-17': 1.79,\n",
       " '2021-07-18': 1.79,\n",
       " '2021-07-19': 1.79,\n",
       " '2021-07-20': 1.79,\n",
       " '2021-07-21': 1.79,\n",
       " '2021-07-22': 1.79,\n",
       " '2021-07-23': 1.49,\n",
       " '2021-07-24': 1.49,\n",
       " '2021-07-25': 1.49,\n",
       " '2021-07-27': 1.29,\n",
       " '2021-07-28': 1.29,\n",
       " '2021-07-29': 1.29,\n",
       " '2021-07-30': 1.29,\n",
       " '2021-07-31': 1.29,\n",
       " '2021-08-01': 1.49,\n",
       " '2021-08-02': 1.49,\n",
       " '2021-08-03': 1.49,\n",
       " '2021-08-04': 1.49,\n",
       " '2021-08-05': 1.49,\n",
       " '2021-08-06': 1.49,\n",
       " '2021-08-07': 1.49,\n",
       " '2021-08-08': 1.49,\n",
       " '2021-08-09': 1.49,\n",
       " '2021-08-11': 1.49,\n",
       " '2021-08-12': 1.49,\n",
       " '2021-08-13': 1.79,\n",
       " '2021-08-14': 1.79,\n",
       " '2021-08-15': 1.79,\n",
       " '2021-08-16': 1.79,\n",
       " '2021-08-17': 1.79,\n",
       " '2021-08-19': 1.79,\n",
       " '2021-08-20': 1.79,\n",
       " '2021-08-21': 1.79,\n",
       " '2021-08-22': 1.79,\n",
       " '2021-08-23': 1.79,\n",
       " '2021-08-24': 1.79,\n",
       " '2021-08-25': 1.79,\n",
       " '2021-08-30': 1.79,\n",
       " '2021-08-31': 1.79,\n",
       " '2021-09-01': 1.79,\n",
       " '2021-09-02': 1.79,\n",
       " '2021-09-03': 1.79,\n",
       " '2021-09-04': 1.79,\n",
       " '2021-09-05': 1.79,\n",
       " '2021-09-06': 1.79,\n",
       " '2021-09-07': 1.79,\n",
       " '2021-09-08': 1.79,\n",
       " '2021-09-09': 1.79,\n",
       " '2021-09-10': 1.79,\n",
       " '2021-09-11': 1.79,\n",
       " '2021-09-12': 1.79,\n",
       " '2021-09-13': 1.79,\n",
       " '2021-09-14': 1.79,\n",
       " '2021-09-15': 1.79,\n",
       " '2021-09-16': 1.79,\n",
       " '2021-09-17': 1.79,\n",
       " '2021-09-18': 1.79,\n",
       " '2021-09-19': 1.79,\n",
       " '2021-09-20': 1.79}"
      ]
     },
     "execution_count": 13,
     "metadata": {},
     "output_type": "execute_result"
    }
   ],
   "source": [
    "Prices['f3f01bdc-5679-5f7d-94cc-caa5c889f620']['paper']['cardkingdom']['retail']['normal']"
   ]
  },
  {
   "cell_type": "code",
   "execution_count": null,
   "metadata": {},
   "outputs": [],
   "source": [
    "used_sets = []\n",
    "set_table_image_list = []\n",
    "MissingSetCount = {}\n",
    "for mtgset in all_sets:\n",
    "    MissingInSet = []\n",
    "    for card in WouldPurchase:\n",
    "        if mtgset in WouldPurchase[card][\"set\"]:\n",
    "            card_array = (  str(WouldPurchase[card]['name']), \\\n",
    "                            int(WouldPurchase[card][\"MV\"]), \n",
    "                            WouldPurchase[card]['prices'][mtgset][0][0], \n",
    "                            str(WouldPurchase[card]['set'])[1:][:-1].replace(\"'\", \"\"),\n",
    "                            WouldPurchase[card]['rarity'],\n",
    "                            WouldPurchase[card]['color']\n",
    "            )\n",
    "                            \n",
    "            MissingInSet.append(card_array)\n",
    "            if mtgset not in used_sets:\n",
    "                used_sets.append(mtgset)\n",
    "            \n",
    "\n",
    "    df = pd.DataFrame(MissingInSet, columns=[\"Name\", \"MV\", \"Price\", \"OtherSets\", \"rarity\", \"color\"])\n",
    "    df = df.sort_values([\"MV\", \"Name\"])\n",
    "    df['check'] =  '⬜'\n",
    "    MissingSetCount[mtgset] = len(df)\n",
    "    \n",
    "    items_in_list = 45\n",
    "\n",
    "    if len(df) > 0:\n",
    "        #df.to_excel(f\"MissingExcel/SET_{mtgset}.xlsx\", index=False)\n",
    "        if len(df) <= items_in_list:\n",
    "            fig = go.Figure(data=[go.Table(\n",
    "            columnwidth=[30, 200, 50, 100, 200, 100, 50],\n",
    "            header=dict(values=list([\"\", \"Name\", \"MV\", \"Price\", \"OtherSets\", \"Rarity\", \"Colour\"]),\n",
    "                        fill_color='paleturquoise',\n",
    "                        align='left'),\n",
    "            cells=dict(values=[df.check, df.Name, df.MV, df.Price, df.OtherSets, df.rarity, df.color],\n",
    "                        fill_color='white',\n",
    "                        align='left'))\n",
    "                        \n",
    "            ])\n",
    "            fig.update_layout(width=800, height=1000, margin=dict(l=0, r=0, b=0, t=0, pad=0))\n",
    "            fig.write_image(f\"SetSymbol/tb_{mtgset}.png\")\n",
    "            image_data = [mtgset, f\"SetSymbol/tb_{mtgset}.png\"]\n",
    "            set_table_image_list.append(image_data)\n",
    "        else:\n",
    "            list_ranges = list(range(0, len(df), items_in_list))\n",
    "            list_ranges.append(len(df))\n",
    "            for i in range(len(list_ranges)-1):\n",
    "                data = df[list_ranges[i]:list_ranges[i+1]]\n",
    "                fig = go.Figure(data=[go.Table(\n",
    "                    columnwidth=[30, 200, 50, 100, 200, 100, 50],\n",
    "                    header=dict(values=list([\"\", \"Name\", \"MV\", \"Price\", \"OtherSets\", \"Rarity\", \"Colour\"]),\n",
    "                                fill_color='paleturquoise',\n",
    "                                align='left'),\n",
    "                    cells=dict(values=[data.check, data.Name, data.MV, data.Price, data.OtherSets, data.rarity, data.color],\n",
    "                                fill_color='white',\n",
    "                                align='left'))\n",
    "                                \n",
    "                ])\n",
    "                fig.update_layout(width=800, height=1000, margin=dict(l=0, r=0, b=0, t=0, pad=0))\n",
    "                fig.write_image(f\"SetSymbol/tb_{mtgset}_{i}.png\")\n",
    "                image_data = [mtgset, f\"SetSymbol/tb_{mtgset}_{i}.png\"]\n",
    "                set_table_image_list.append(image_data)\n",
    "\n"
   ]
  },
  {
   "cell_type": "code",
   "execution_count": null,
   "metadata": {},
   "outputs": [],
   "source": [
    "AllCards = []\n",
    "for card in WouldPurchase:\n",
    "        card_array = (  str(WouldPurchase[card]['name']), \\\n",
    "                        int(WouldPurchase[card][\"MV\"]), \n",
    "                        WouldPurchase[card]['min_price'], \n",
    "                        str(WouldPurchase[card]['set'])[1:][:-1].replace(\"'\", \"\"),\n",
    "                        WouldPurchase[card]['rarity'],\n",
    "                        WouldPurchase[card]['color']\n",
    "        )\n",
    "        AllCards.append(card_array)\n",
    "df = pd.DataFrame(AllCards, columns=[\"Name\", \"MV\", \"Price\", \"Sets\", \"rarity\", \"color\"])\n",
    "df = df.sort_values([\"Name\"])\n",
    "df['check'] =  '⬜'\n",
    "MissingSetCount[mtgset] = len(df)\n",
    "\n",
    "full_list = []\n",
    "items_in_list = 50\n",
    "list_ranges = range(0, len(df), items_in_list)\n",
    "for i in range(len(list_ranges)-1):\n",
    "        data = df[list_ranges[i]:list_ranges[i+1]]\n",
    "        fig = go.Figure(data=[go.Table(\n",
    "                columnwidth=[30, 200, 50, 100, 200, 100, 50],\n",
    "                header=dict(values=list([\"\", \"Name\", \"MV\", \"Cheapest Price\", \"Sets\", \"rarity\", \"Colour\"]),\n",
    "                        fill_color='paleturquoise',\n",
    "                        align='left'),\n",
    "                cells=dict(values=[data.check, data.Name, data.MV, data.Price, data.Sets, data.rarity, data.color],\n",
    "                        fill_color='white',\n",
    "                        align='left'))\n",
    "                        \n",
    "                ])\n",
    "        fig.update_layout(width=800, height=1100, margin=dict(l=0, r=0, b=0, t=0, pad=0))\n",
    "        fig.write_image(f\"SetSymbol/all_{i}.png\")\n",
    "        full_list.append(f\"SetSymbol/all_{i}.png\")\n",
    "\n",
    "pd_full = pd.DataFrame(full_list, columns=[\"@all\"])\n",
    "pd_full.to_csv(\"SetSymbol/all_list.txt\", index=False)\n"
   ]
  },
  {
   "cell_type": "code",
   "execution_count": null,
   "metadata": {},
   "outputs": [
    {
     "name": "stdout",
     "output_type": "stream",
     "text": [
      "891\n"
     ]
    }
   ],
   "source": [
    "print(len(AllCards))"
   ]
  },
  {
   "cell_type": "markdown",
   "metadata": {},
   "source": [
    "# Set Details\n",
    "\n",
    "For each set, the logo, set name and release details are included into a file sets.xlsx"
   ]
  },
  {
   "cell_type": "markdown",
   "metadata": {},
   "source": [
    "Import Set Symbols to folder"
   ]
  },
  {
   "cell_type": "code",
   "execution_count": null,
   "metadata": {},
   "outputs": [],
   "source": [
    "SetShortCode = {}\n",
    "SetProductCode = {}\n",
    "with open(\"downloads/sets.json\", 'r', encoding='utf8') as read_file:\n",
    "        SetDownload = json.load(read_file)\n",
    "        for mtgset in SetDownload:\n",
    "                SetShortCode[mtgset['shortcode']] = mtgset\n",
    "                SetProductCode[mtgset['productCode']] = mtgset"
   ]
  },
  {
   "cell_type": "code",
   "execution_count": null,
   "metadata": {},
   "outputs": [],
   "source": [
    "extra_dict = {}\n",
    "extra_list = pd.read_csv(\"SetSymbol/extra_set_symbols.txt\")\n",
    "for mtgset, image in extra_list.values.tolist():\n",
    "    extra_dict[mtgset] = image\n",
    "\n",
    "for mtgset in used_sets:\n",
    "    if mtgset in SetShortCode:\n",
    "        image_code = SetShortCode[mtgset]['shortcode']\n",
    "    elif mtgset in SetProductCode:\n",
    "        image_code = SetProductCode[mtgset]['productCode']\n",
    "    else:\n",
    "        image_code = extra_dict[mtgset]\n",
    "        \n",
    "    \n",
    "    image_url = f\"https://deckmaster.info/images/sets/{image_code}_C.png\"\n",
    "    save_name = f\"SetSymbol/img_{mtgset}.png\"\n",
    "    if not Path(save_name).is_file():\n",
    "        if Path(f\"SetSymbol/img_{image_code}.png\").is_file():\n",
    "            copyfile(Path(f\"SetSymbol/img_{image_code}.png\"), Path(save_name))\n",
    "        else:\n",
    "            set_image = Image.open(requests.get(image_url, stream=True).raw)\n",
    "            set_image.save(save_name)\n",
    "\n",
    "for mtgset in used_sets:\n",
    "    if Path(f\"SetSymbol/img_{mtgset}.png\").is_file() is False:\n",
    "        print(mtgset)\n"
   ]
  },
  {
   "cell_type": "code",
   "execution_count": null,
   "metadata": {},
   "outputs": [
    {
     "name": "stdout",
     "output_type": "stream",
     "text": [
      "     index SetSymbol                   FullName ReleaseDate      @symbol  \\\n",
      "120    121       10E               10th Edition  2007-07-13  img_10E.png   \n",
      "13      14       2XM             Double Masters  2020-08-07  img_2XM.png   \n",
      "182    183       3ED            Revised Edition  1994-04-01  img_3ED.png   \n",
      "138    139       5DN                 Fifth Dawn  2004-06-04  img_5DN.png   \n",
      "172    173       5ED              Fifth Edition  1997-03-24  img_5ED.png   \n",
      "..     ...       ...                        ...         ...          ...   \n",
      "104    105       WWK                  Worldwake  2010-02-05  img_WWK.png   \n",
      "44      45       XLN                     Ixalan  2017-09-29  img_XLN.png   \n",
      "107    108       ZEN                   Zendikar  2009-10-02  img_ZEN.png   \n",
      "9       10       ZNC  Zendikar Rising Commander  2020-10-01  img_ZNC.png   \n",
      "10      11       ZNR            Zendikar Rising  2020-10-01  img_ZNR.png   \n",
      "\n",
      "                    @sets  missing  CardsInSet  \n",
      "120  SetSymbol/tb_10E.png        6         383  \n",
      "13   SetSymbol/tb_2XM.png        9         332  \n",
      "182  SetSymbol/tb_3ED.png        3         306  \n",
      "138  SetSymbol/tb_5DN.png        4         165  \n",
      "172  SetSymbol/tb_5ED.png        1         455  \n",
      "..                    ...      ...         ...  \n",
      "104  SetSymbol/tb_WWK.png        6         145  \n",
      "44   SetSymbol/tb_XLN.png        1         279  \n",
      "107  SetSymbol/tb_ZEN.png        5         249  \n",
      "9    SetSymbol/tb_ZNC.png        4         142  \n",
      "10   SetSymbol/tb_ZNR.png      891         285  \n",
      "\n",
      "[187 rows x 8 columns]\n"
     ]
    }
   ],
   "source": [
    "all_set_info = []\n",
    "for mtgset, table in set_table_image_list:\n",
    "    if mtgset in SetShortCode:\n",
    "        set_info = SetShortCode[mtgset]\n",
    "    elif mtgset in SetProductCode:\n",
    "        set_info = SetProductCode[mtgset]\n",
    "    else:\n",
    "        set_info = AllPrintings[mtgset]\n",
    "    csv_set_info = [mtgset, set_info['name'], set_info['releaseDate'], f\"img_{mtgset}.png\", table, MissingSetCount[mtgset], AllPrintings[mtgset]['baseSetSize']]\n",
    "    all_set_info.append(csv_set_info)\n",
    "\n",
    "pd_set_info = pd.DataFrame(all_set_info, columns=['SetSymbol', 'FullName', 'ReleaseDate', '@symbol', \"@sets\", 'missing', 'CardsInSet'])\n",
    "pd_set_info.sort_values([ 'ReleaseDate', 'FullName'], ascending=False, inplace=True)\n",
    "pd_set_info.reset_index(drop=True, inplace=True)\n",
    "pd_set_info.reset_index(inplace=True)\n",
    "pd_set_info['index'] = pd_set_info['index'] + 1\n",
    "\n",
    "pd_set_info.to_csv(\"SetSymbol/all_set_data.txt\", index=False)\n",
    "pd_set_info.drop_duplicates(subset=None, keep='first', inplace=False)\n",
    "pd_set_info = pd_set_info.sort_values([ 'SetSymbol', 'FullName'])\n",
    "pd_set_info.to_csv(\"SetSymbol/all_set_by_name.txt\", index=False)\n",
    "\n",
    "print(pd_set_info)\n"
   ]
  }
 ],
 "metadata": {
  "interpreter": {
   "hash": "b3ba2566441a7c06988d0923437866b63cedc61552a5af99d1f4fb67d367b25f"
  },
  "kernelspec": {
   "display_name": "Python 3.8.8 64-bit ('base': conda)",
   "name": "python3"
  },
  "language_info": {
   "codemirror_mode": {
    "name": "ipython",
    "version": 3
   },
   "file_extension": ".py",
   "mimetype": "text/x-python",
   "name": "python",
   "nbconvert_exporter": "python",
   "pygments_lexer": "ipython3",
   "version": "3.8.12"
  },
  "orig_nbformat": 4
 },
 "nbformat": 4,
 "nbformat_minor": 2
}
